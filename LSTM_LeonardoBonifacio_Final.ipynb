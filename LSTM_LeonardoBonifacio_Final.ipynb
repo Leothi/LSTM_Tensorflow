{
 "cells": [
  {
   "cell_type": "markdown",
   "metadata": {},
   "source": [
    "# LSTM com Tensorflow \n",
    "### Objetivo Geral: Previsão do parâmetro Wet Bulb da base de dados QCLCD_PDX_20150901 utilizando ele mesmo como parâmetro previsor.\n",
    "### Objetivos Específicos: garregar e processar dados, tratar a base para previsão, implementar algoritmo LSTM para Tensorflow, validar e avaliar resultados.\n",
    "#### Autor: Leonardo Bonifácio"
   ]
  },
  {
   "cell_type": "code",
   "execution_count": 1,
   "metadata": {},
   "outputs": [],
   "source": [
    "import pandas as pd\n",
    "import tensorflow as tf\n",
    "import matplotlib.pyplot as plt\n",
    "import numpy as np\n",
    "from sklearn.preprocessing import MinMaxScaler\n",
    "%matplotlib inline"
   ]
  },
  {
   "cell_type": "markdown",
   "metadata": {},
   "source": [
    "## 1. Carregamento e processamento de dados\n",
    "\n",
    "A base utilizada contém 807 registros e mostra, de hora em hora, diversos(44) parâmetros metereológicos utlizados na aviação para melhor controle e segurança de uma aeronave."
   ]
  },
  {
   "cell_type": "code",
   "execution_count": 2,
   "metadata": {
    "scrolled": true
   },
   "outputs": [
    {
     "name": "stdout",
     "output_type": "stream",
     "text": [
      "807\n"
     ]
    },
    {
     "data": {
      "text/html": [
       "<div>\n",
       "<style scoped>\n",
       "    .dataframe tbody tr th:only-of-type {\n",
       "        vertical-align: middle;\n",
       "    }\n",
       "\n",
       "    .dataframe tbody tr th {\n",
       "        vertical-align: top;\n",
       "    }\n",
       "\n",
       "    .dataframe thead th {\n",
       "        text-align: right;\n",
       "    }\n",
       "</style>\n",
       "<table border=\"1\" class=\"dataframe\">\n",
       "  <thead>\n",
       "    <tr style=\"text-align: right;\">\n",
       "      <th></th>\n",
       "      <th>WBAN</th>\n",
       "      <th>Date</th>\n",
       "      <th>Time</th>\n",
       "      <th>StationType</th>\n",
       "      <th>SkyCondition</th>\n",
       "      <th>SkyConditionFlag</th>\n",
       "      <th>Visibility</th>\n",
       "      <th>VisibilityFlag</th>\n",
       "      <th>WeatherType</th>\n",
       "      <th>WeatherTypeFlag</th>\n",
       "      <th>...</th>\n",
       "      <th>PressureChange</th>\n",
       "      <th>PressureChangeFlag</th>\n",
       "      <th>SeaLevelPressure</th>\n",
       "      <th>SeaLevelPressureFlag</th>\n",
       "      <th>RecordType</th>\n",
       "      <th>RecordTypeFlag</th>\n",
       "      <th>HourlyPrecip</th>\n",
       "      <th>HourlyPrecipFlag</th>\n",
       "      <th>Altimeter</th>\n",
       "      <th>AltimeterFlag</th>\n",
       "    </tr>\n",
       "  </thead>\n",
       "  <tbody>\n",
       "    <tr>\n",
       "      <th>0</th>\n",
       "      <td>24229</td>\n",
       "      <td>20150901</td>\n",
       "      <td>53</td>\n",
       "      <td>11</td>\n",
       "      <td>OVC060</td>\n",
       "      <td></td>\n",
       "      <td>10.0</td>\n",
       "      <td></td>\n",
       "      <td></td>\n",
       "      <td></td>\n",
       "      <td>...</td>\n",
       "      <td></td>\n",
       "      <td></td>\n",
       "      <td>29.95</td>\n",
       "      <td></td>\n",
       "      <td>AA</td>\n",
       "      <td></td>\n",
       "      <td></td>\n",
       "      <td></td>\n",
       "      <td>29.96</td>\n",
       "      <td>NaN</td>\n",
       "    </tr>\n",
       "    <tr>\n",
       "      <th>1</th>\n",
       "      <td>24229</td>\n",
       "      <td>20150901</td>\n",
       "      <td>153</td>\n",
       "      <td>11</td>\n",
       "      <td>OVC060</td>\n",
       "      <td></td>\n",
       "      <td>10.0</td>\n",
       "      <td></td>\n",
       "      <td></td>\n",
       "      <td></td>\n",
       "      <td>...</td>\n",
       "      <td></td>\n",
       "      <td></td>\n",
       "      <td>29.94</td>\n",
       "      <td></td>\n",
       "      <td>AA</td>\n",
       "      <td></td>\n",
       "      <td></td>\n",
       "      <td></td>\n",
       "      <td>29.95</td>\n",
       "      <td>NaN</td>\n",
       "    </tr>\n",
       "    <tr>\n",
       "      <th>2</th>\n",
       "      <td>24229</td>\n",
       "      <td>20150901</td>\n",
       "      <td>253</td>\n",
       "      <td>11</td>\n",
       "      <td>OVC055</td>\n",
       "      <td></td>\n",
       "      <td>10.0</td>\n",
       "      <td></td>\n",
       "      <td></td>\n",
       "      <td></td>\n",
       "      <td>...</td>\n",
       "      <td></td>\n",
       "      <td></td>\n",
       "      <td>29.94</td>\n",
       "      <td></td>\n",
       "      <td>AA</td>\n",
       "      <td></td>\n",
       "      <td></td>\n",
       "      <td></td>\n",
       "      <td>29.95</td>\n",
       "      <td>NaN</td>\n",
       "    </tr>\n",
       "    <tr>\n",
       "      <th>3</th>\n",
       "      <td>24229</td>\n",
       "      <td>20150901</td>\n",
       "      <td>353</td>\n",
       "      <td>11</td>\n",
       "      <td>OVC055</td>\n",
       "      <td></td>\n",
       "      <td>10.0</td>\n",
       "      <td></td>\n",
       "      <td></td>\n",
       "      <td></td>\n",
       "      <td>...</td>\n",
       "      <td></td>\n",
       "      <td></td>\n",
       "      <td>29.94</td>\n",
       "      <td></td>\n",
       "      <td>AA</td>\n",
       "      <td></td>\n",
       "      <td></td>\n",
       "      <td></td>\n",
       "      <td>29.95</td>\n",
       "      <td>NaN</td>\n",
       "    </tr>\n",
       "    <tr>\n",
       "      <th>4</th>\n",
       "      <td>24229</td>\n",
       "      <td>20150901</td>\n",
       "      <td>453</td>\n",
       "      <td>11</td>\n",
       "      <td>OVC060</td>\n",
       "      <td></td>\n",
       "      <td>10.0</td>\n",
       "      <td></td>\n",
       "      <td></td>\n",
       "      <td></td>\n",
       "      <td>...</td>\n",
       "      <td></td>\n",
       "      <td></td>\n",
       "      <td>29.94</td>\n",
       "      <td></td>\n",
       "      <td>AA</td>\n",
       "      <td></td>\n",
       "      <td></td>\n",
       "      <td></td>\n",
       "      <td>29.95</td>\n",
       "      <td>NaN</td>\n",
       "    </tr>\n",
       "  </tbody>\n",
       "</table>\n",
       "<p>5 rows × 44 columns</p>\n",
       "</div>"
      ],
      "text/plain": [
       "    WBAN      Date  Time  StationType SkyCondition SkyConditionFlag  \\\n",
       "0  24229  20150901    53           11       OVC060                    \n",
       "1  24229  20150901   153           11       OVC060                    \n",
       "2  24229  20150901   253           11       OVC055                    \n",
       "3  24229  20150901   353           11       OVC055                    \n",
       "4  24229  20150901   453           11       OVC060                    \n",
       "\n",
       "   Visibility VisibilityFlag WeatherType WeatherTypeFlag  ...  PressureChange  \\\n",
       "0        10.0                                             ...                   \n",
       "1        10.0                                             ...                   \n",
       "2        10.0                                             ...                   \n",
       "3        10.0                                             ...                   \n",
       "4        10.0                                             ...                   \n",
       "\n",
       "  PressureChangeFlag  SeaLevelPressure SeaLevelPressureFlag  RecordType  \\\n",
       "0                                29.95                               AA   \n",
       "1                                29.94                               AA   \n",
       "2                                29.94                               AA   \n",
       "3                                29.94                               AA   \n",
       "4                                29.94                               AA   \n",
       "\n",
       "  RecordTypeFlag  HourlyPrecip HourlyPrecipFlag  Altimeter AltimeterFlag  \n",
       "0                                                    29.96           NaN  \n",
       "1                                                    29.95           NaN  \n",
       "2                                                    29.95           NaN  \n",
       "3                                                    29.95           NaN  \n",
       "4                                                    29.95           NaN  \n",
       "\n",
       "[5 rows x 44 columns]"
      ]
     },
     "execution_count": 2,
     "metadata": {},
     "output_type": "execute_result"
    }
   ],
   "source": [
    "df = pd.read_csv('QCLCD_PDX_20150901 - Copy.csv')\n",
    "print(len(df))\n",
    "df.head(5)"
   ]
  },
  {
   "cell_type": "markdown",
   "metadata": {},
   "source": [
    "Foi utilizado um parâmetros previsor, *WetBulbCelsius*, para prever *WetBulbCelsius*. Esse parâmetro informa a temperatura, em graus Celsius, de um sensor de temperatura utilizado na aviação."
   ]
  },
  {
   "cell_type": "code",
   "execution_count": 3,
   "metadata": {},
   "outputs": [
    {
     "data": {
      "text/html": [
       "<div>\n",
       "<style scoped>\n",
       "    .dataframe tbody tr th:only-of-type {\n",
       "        vertical-align: middle;\n",
       "    }\n",
       "\n",
       "    .dataframe tbody tr th {\n",
       "        vertical-align: top;\n",
       "    }\n",
       "\n",
       "    .dataframe thead th {\n",
       "        text-align: right;\n",
       "    }\n",
       "</style>\n",
       "<table border=\"1\" class=\"dataframe\">\n",
       "  <thead>\n",
       "    <tr style=\"text-align: right;\">\n",
       "      <th></th>\n",
       "      <th>WetBulbCelsius</th>\n",
       "    </tr>\n",
       "  </thead>\n",
       "  <tbody>\n",
       "    <tr>\n",
       "      <th>0</th>\n",
       "      <td>14.6</td>\n",
       "    </tr>\n",
       "    <tr>\n",
       "      <th>1</th>\n",
       "      <td>14.9</td>\n",
       "    </tr>\n",
       "    <tr>\n",
       "      <th>2</th>\n",
       "      <td>14.9</td>\n",
       "    </tr>\n",
       "    <tr>\n",
       "      <th>3</th>\n",
       "      <td>14.6</td>\n",
       "    </tr>\n",
       "    <tr>\n",
       "      <th>4</th>\n",
       "      <td>14.4</td>\n",
       "    </tr>\n",
       "  </tbody>\n",
       "</table>\n",
       "</div>"
      ],
      "text/plain": [
       "   WetBulbCelsius\n",
       "0            14.6\n",
       "1            14.9\n",
       "2            14.9\n",
       "3            14.6\n",
       "4            14.4"
      ]
     },
     "execution_count": 3,
     "metadata": {},
     "output_type": "execute_result"
    }
   ],
   "source": [
    "dataset = df.filter(items = ['WetBulbCelsius'])\n",
    "dataset.dropna()\n",
    "dataset.head(5)"
   ]
  },
  {
   "cell_type": "code",
   "execution_count": 4,
   "metadata": {
    "scrolled": true
   },
   "outputs": [
    {
     "data": {
      "text/html": [
       "<div>\n",
       "<style scoped>\n",
       "    .dataframe tbody tr th:only-of-type {\n",
       "        vertical-align: middle;\n",
       "    }\n",
       "\n",
       "    .dataframe tbody tr th {\n",
       "        vertical-align: top;\n",
       "    }\n",
       "\n",
       "    .dataframe thead th {\n",
       "        text-align: right;\n",
       "    }\n",
       "</style>\n",
       "<table border=\"1\" class=\"dataframe\">\n",
       "  <thead>\n",
       "    <tr style=\"text-align: right;\">\n",
       "      <th></th>\n",
       "      <th>WetBulbCelsius</th>\n",
       "    </tr>\n",
       "  </thead>\n",
       "  <tbody>\n",
       "    <tr>\n",
       "      <th>count</th>\n",
       "      <td>807.000000</td>\n",
       "    </tr>\n",
       "    <tr>\n",
       "      <th>mean</th>\n",
       "      <td>13.470136</td>\n",
       "    </tr>\n",
       "    <tr>\n",
       "      <th>std</th>\n",
       "      <td>2.652769</td>\n",
       "    </tr>\n",
       "    <tr>\n",
       "      <th>min</th>\n",
       "      <td>6.900000</td>\n",
       "    </tr>\n",
       "    <tr>\n",
       "      <th>25%</th>\n",
       "      <td>11.500000</td>\n",
       "    </tr>\n",
       "    <tr>\n",
       "      <th>50%</th>\n",
       "      <td>13.400000</td>\n",
       "    </tr>\n",
       "    <tr>\n",
       "      <th>75%</th>\n",
       "      <td>15.200000</td>\n",
       "    </tr>\n",
       "    <tr>\n",
       "      <th>max</th>\n",
       "      <td>21.000000</td>\n",
       "    </tr>\n",
       "  </tbody>\n",
       "</table>\n",
       "</div>"
      ],
      "text/plain": [
       "       WetBulbCelsius\n",
       "count      807.000000\n",
       "mean        13.470136\n",
       "std          2.652769\n",
       "min          6.900000\n",
       "25%         11.500000\n",
       "50%         13.400000\n",
       "75%         15.200000\n",
       "max         21.000000"
      ]
     },
     "execution_count": 4,
     "metadata": {},
     "output_type": "execute_result"
    }
   ],
   "source": [
    "dataset.describe()"
   ]
  },
  {
   "cell_type": "markdown",
   "metadata": {},
   "source": [
    "#### Visualização gráfica da série temporal para esse parâmetro"
   ]
  },
  {
   "cell_type": "code",
   "execution_count": 5,
   "metadata": {},
   "outputs": [
    {
     "data": {
      "text/plain": [
       "<matplotlib.axes._subplots.AxesSubplot at 0x25f231b6320>"
      ]
     },
     "execution_count": 5,
     "metadata": {},
     "output_type": "execute_result"
    },
    {
     "data": {
      "image/png": "[encoded data removed]",
      "text/plain": [
       "<Figure size 432x288 with 1 Axes>"
      ]
     },
     "metadata": {
      "needs_background": "light"
     },
     "output_type": "display_data"
    }
   ],
   "source": [
    "dataset.plot()"
   ]
  },
  {
   "cell_type": "markdown",
   "metadata": {},
   "source": [
    "--------"
   ]
  },
  {
   "cell_type": "markdown",
   "metadata": {},
   "source": [
    "## 2. Tratar base para previsão\n",
    "Para obter o valor do próximo dado, 30 registros anteriores são usados. É necessário separar o *dataset* em treinamento e teste e, em seguida, separar cada pedaço (*batch*) dessas bases que serão usados nesses processos."
   ]
  },
  {
   "cell_type": "code",
   "execution_count": 6,
   "metadata": {},
   "outputs": [],
   "source": [
    "timesteps = 30"
   ]
  },
  {
   "cell_type": "markdown",
   "metadata": {},
   "source": [
    " #### Normalização da base de treinamento\n",
    " A normalização da base acelera o processo de treinamento, além de amenizar resultados insatisfatórios que podem ocorrer devido à grande variação nos valores durante o treinamento.\n"
   ]
  },
  {
   "cell_type": "code",
   "execution_count": 7,
   "metadata": {},
   "outputs": [],
   "source": [
    "base = dataset.iloc[:][:].values # Conversão para float\n",
    "normalizador = MinMaxScaler(feature_range=(0,1))\n",
    "\n",
    "base_normalizada = normalizador.fit_transform(base)"
   ]
  },
  {
   "cell_type": "markdown",
   "metadata": {},
   "source": [
    "Processo semelhante à matrização do keras para separar previsores da resposta real e criação de *batches* para treinamento e teste."
   ]
  },
  {
   "cell_type": "code",
   "execution_count": 8,
   "metadata": {},
   "outputs": [],
   "source": [
    "X = base_normalizada[0:(len(base) - (len(base) % timesteps))] # Previsores\n",
    "X_batches = X.reshape(-1, timesteps, 1) # Batches com tamanho = timesteps. Quantidade = (total de registros / timesteps)\n",
    "\n",
    "Y = base_normalizada[1:(len(base) - (len(base) % timesteps)) + 1] # Valores reais\n",
    "y_batches = Y.reshape(-1, timesteps, 1)"
   ]
  },
  {
   "cell_type": "markdown",
   "metadata": {},
   "source": [
    " #### Criação e normalização das bases de testes\n"
   ]
  },
  {
   "cell_type": "code",
   "execution_count": 9,
   "metadata": {},
   "outputs": [],
   "source": [
    "X_teste = base[-(timesteps + 1):] # Últimos registros do banco. (len(banco) - timesteps) até o final dele\n",
    "X_teste = X_teste[:timesteps]\n",
    "X_teste = normalizador.transform(X_teste)\n",
    "X_teste = X_teste.reshape(-1, timesteps, 1) # Reshape para input do tensorflow\n",
    "\n",
    "y_teste = base[-(timesteps):] # Reparar que o y_teste não utiliza a base normalizada\n",
    "y_teste = y_teste.reshape(-1, timesteps, 1)"
   ]
  },
  {
   "cell_type": "markdown",
   "metadata": {},
   "source": [
    "## 3. Algoritmo LSTM"
   ]
  },
  {
   "cell_type": "code",
   "execution_count": 10,
   "metadata": {},
   "outputs": [],
   "source": [
    "tf.reset_default_graph() # Reseta o grafo atual"
   ]
  },
  {
   "cell_type": "code",
   "execution_count": 11,
   "metadata": {},
   "outputs": [],
   "source": [
    "# Número de nós em cada camada\n",
    "n_input = 1\n",
    "n_hidden = 100\n",
    "n_output = 1"
   ]
  },
  {
   "cell_type": "code",
   "execution_count": 12,
   "metadata": {},
   "outputs": [],
   "source": [
    "# Criação dos placeholders\n",
    "x = tf.placeholder(tf.float32, [None, timesteps, n_input])\n",
    "y = tf.placeholder(tf.float32, [None, timesteps, n_output])"
   ]
  },
  {
   "cell_type": "code",
   "execution_count": 13,
   "metadata": {},
   "outputs": [],
   "source": [
    "# Função para criar uma célula LSTM\n",
    "def inicializarUmaCelula():\n",
    "    return tf.contrib.rnn.LSTMCell(num_units = n_hidden, activation = tf.nn.relu)"
   ]
  },
  {
   "cell_type": "markdown",
   "metadata": {},
   "source": [
    "Foram criadas 3 celúlas LSTM com Dropout. O uso de mais de uma célula pode melhorar os resultados. A camada de Dropout evita o *overfitting* do modelo."
   ]
  },
  {
   "cell_type": "code",
   "execution_count": 14,
   "metadata": {},
   "outputs": [],
   "source": [
    "# Função para criar n células LSTM\n",
    "def inicializarVariasCelulas(n_celulas):\n",
    "    celulas =  tf.nn.rnn_cell.MultiRNNCell([inicializarUmaCelula() for i in range(n_celulas)])\n",
    "    return tf.contrib.rnn.DropoutWrapper(celulas, input_keep_prob = 0.9) # Dropout"
   ]
  },
  {
   "cell_type": "code",
   "execution_count": 15,
   "metadata": {},
   "outputs": [],
   "source": [
    "# Criação das células\n",
    "celula = inicializarVariasCelulas(3) # 3 células\n",
    "celula = tf.contrib.rnn.OutputProjectionWrapper(celula, output_size = 1)"
   ]
  },
  {
   "cell_type": "markdown",
   "metadata": {},
   "source": [
    "#### Erros e métricas:\n",
    "O otimizador mais adequado, depois de vários testes, foi o Adam com *learning rate* = 0.001. Para outros casos, o modelo não convergia muito bem ou treinava muito lentamente. A função de erro escolhida foi a MSE."
   ]
  },
  {
   "cell_type": "code",
   "execution_count": 16,
   "metadata": {},
   "outputs": [],
   "source": [
    "saida_rnn, _ = tf.nn.dynamic_rnn(celula, x, dtype = tf.float32)\n",
    "erro = tf.losses.mean_squared_error(labels = y, predictions = saida_rnn)\n",
    "otimizador = tf.train.AdamOptimizer(learning_rate = 0.001)\n",
    "treinamento = otimizador.minimize(erro)"
   ]
  },
  {
   "cell_type": "code",
   "execution_count": 17,
   "metadata": {},
   "outputs": [],
   "source": [
    "init = tf.global_variables_initializer() # Inicializando variáveis globais"
   ]
  },
  {
   "cell_type": "code",
   "execution_count": 18,
   "metadata": {},
   "outputs": [],
   "source": [
    "epocas = 1000\n",
    "n_display = epocas/10"
   ]
  },
  {
   "cell_type": "markdown",
   "metadata": {},
   "source": [
    "Sessão de treinamento:"
   ]
  },
  {
   "cell_type": "code",
   "execution_count": 19,
   "metadata": {},
   "outputs": [
    {
     "name": "stdout",
     "output_type": "stream",
     "text": [
      "Epoca: 0 \terro (MSE): 0.25964323\n",
      "Epoca: 100 \terro (MSE): 0.020010244\n",
      "Epoca: 200 \terro (MSE): 0.0060709654\n",
      "Epoca: 300 \terro (MSE): 0.0026993514\n",
      "Epoca: 400 \terro (MSE): 0.0021134322\n",
      "Epoca: 500 \terro (MSE): 0.001647995\n",
      "Epoca: 600 \terro (MSE): 0.001636575\n",
      "Epoca: 700 \terro (MSE): 0.0013860752\n",
      "Epoca: 800 \terro (MSE): 0.001304553\n",
      "Epoca: 900 \terro (MSE): 0.0011659313\n",
      "Epoca: 1000 \terro (MSE): 0.0010237437\n"
     ]
    }
   ],
   "source": [
    "with tf.Session() as sess:\n",
    "    sess.run(init)\n",
    "    \n",
    "    for epoca in range(epocas+1):\n",
    "        _, custo = sess.run([treinamento, erro], feed_dict = {x: X_batches, y: y_batches})\n",
    "        if epoca % n_display == 0:\n",
    "            print('Epoca:', epoca, '\\terro (MSE):', custo)\n",
    "    \n",
    "    previsoes = sess.run(saida_rnn, feed_dict = {x: X_teste})"
   ]
  },
  {
   "cell_type": "markdown",
   "metadata": {},
   "source": [
    "Repare que o erro é bem pequeno devido à normalização"
   ]
  },
  {
   "cell_type": "markdown",
   "metadata": {},
   "source": [
    "## 4. Resultados"
   ]
  },
  {
   "cell_type": "markdown",
   "metadata": {},
   "source": [
    "Como essas variáveis estão no *shape* do tensorflow (3 dimensões), é necessário usar o método ravel para mudar suas dimensões."
   ]
  },
  {
   "cell_type": "code",
   "execution_count": 20,
   "metadata": {},
   "outputs": [
    {
     "name": "stdout",
     "output_type": "stream",
     "text": [
      "(1, 30, 1)\n",
      "(30,)\n"
     ]
    }
   ],
   "source": [
    "y_teste_normal = np.ravel(y_teste)\n",
    "print(y_teste.shape)\n",
    "print(y_teste_normal.shape)"
   ]
  },
  {
   "cell_type": "code",
   "execution_count": 21,
   "metadata": {},
   "outputs": [
    {
     "name": "stdout",
     "output_type": "stream",
     "text": [
      "(1, 30, 1)\n",
      "(30,)\n"
     ]
    }
   ],
   "source": [
    "previsoes_normal = np.ravel(previsoes)\n",
    "print(previsoes.shape)\n",
    "print(previsoes_normal.shape)"
   ]
  },
  {
   "cell_type": "markdown",
   "metadata": {},
   "source": [
    "As previsões devem ser desnormalizadas para comparar com y_teste"
   ]
  },
  {
   "cell_type": "code",
   "execution_count": 22,
   "metadata": {},
   "outputs": [],
   "source": [
    "previsoes_normal = previsoes_normal.reshape(-1,1) \n",
    "previsoes_normal = normalizador.inverse_transform(previsoes_normal)\n",
    "previsoes_normal = np.squeeze(previsoes_normal) # Para melhor visualização no print"
   ]
  },
  {
   "cell_type": "markdown",
   "metadata": {},
   "source": [
    "A métrica *Mean Absolute Error* informa a diferença do valor real com o valor previsto, que é bom para verificar a acurácia do modelo."
   ]
  },
  {
   "cell_type": "code",
   "execution_count": 23,
   "metadata": {},
   "outputs": [],
   "source": [
    "from sklearn.metrics import mean_absolute_error\n",
    "mae = mean_absolute_error(y_teste_normal, previsoes_normal)"
   ]
  },
  {
   "cell_type": "code",
   "execution_count": 24,
   "metadata": {},
   "outputs": [],
   "source": [
    "def exibirResultados():\n",
    "    for i in range(len(previsoes_normal)):\n",
    "        print('Previsão:', previsoes_normal[i], '\\tValor real:', y_teste_normal[i])\n",
    "    print()\n",
    "    print('Mean Absolute Error:', round(mae,4))    "
   ]
  },
  {
   "cell_type": "markdown",
   "metadata": {},
   "source": [
    "A função exibe um resumo dos resultados obtidos"
   ]
  },
  {
   "cell_type": "code",
   "execution_count": 25,
   "metadata": {},
   "outputs": [
    {
     "name": "stdout",
     "output_type": "stream",
     "text": [
      "Previsão: 12.682282 \tValor real: 12.0\n",
      "Previsão: 12.05286 \tValor real: 12.0\n",
      "Previsão: 11.605865 \tValor real: 11.2\n",
      "Previsão: 10.891428 \tValor real: 11.0\n",
      "Previsão: 10.514994 \tValor real: 10.7\n",
      "Previsão: 10.343707 \tValor real: 10.7\n",
      "Previsão: 10.524614 \tValor real: 11.8\n",
      "Previsão: 12.120553 \tValor real: 11.0\n",
      "Previsão: 11.667445 \tValor real: 10.5\n",
      "Previsão: 10.822802 \tValor real: 10.5\n",
      "Previsão: 10.68098 \tValor real: 10.5\n",
      "Previsão: 10.750976 \tValor real: 10.7\n",
      "Previsão: 10.879749 \tValor real: 11.0\n",
      "Previsão: 11.132914 \tValor real: 11.8\n",
      "Previsão: 11.977469 \tValor real: 11.8\n",
      "Previsão: 12.2287445 \tValor real: 12.3\n",
      "Previsão: 12.710534 \tValor real: 12.8\n",
      "Previsão: 13.31516 \tValor real: 13.2\n",
      "Previsão: 13.732882 \tValor real: 14.2\n",
      "Previsão: 14.588444 \tValor real: 14.9\n",
      "Previsão: 15.184147 \tValor real: 15.0\n",
      "Previsão: 15.030798 \tValor real: 15.0\n",
      "Previsão: 14.722762 \tValor real: 15.0\n",
      "Previsão: 14.498985 \tValor real: 14.9\n",
      "Previsão: 14.207388 \tValor real: 14.8\n",
      "Previsão: 13.932244 \tValor real: 13.8\n",
      "Previsão: 12.943281 \tValor real: 13.3\n",
      "Previsão: 12.267119 \tValor real: 12.8\n",
      "Previsão: 11.746586 \tValor real: 12.3\n",
      "Previsão: 11.318259 \tValor real: 11.0\n",
      "\n",
      "Mean Absolute Error: 0.3769\n"
     ]
    }
   ],
   "source": [
    "exibirResultados()"
   ]
  },
  {
   "cell_type": "markdown",
   "metadata": {},
   "source": [
    "### Visualização do gráfico"
   ]
  },
  {
   "cell_type": "code",
   "execution_count": 26,
   "metadata": {},
   "outputs": [
    {
     "data": {
      "text/plain": [
       "<matplotlib.legend.Legend at 0x25f36f07da0>"
      ]
     },
     "execution_count": 26,
     "metadata": {},
     "output_type": "execute_result"
    },
    {
     "data": {
      "image/png": "[encoded data removed]",
      "text/plain": [
       "<Figure size 432x288 with 1 Axes>"
      ]
     },
     "metadata": {
      "needs_background": "light"
     },
     "output_type": "display_data"
    }
   ],
   "source": [
    "plt.plot(y_teste_normal, label = 'Valor real')\n",
    "plt.plot(previsoes_normal, label = 'Previsões')\n",
    "plt.legend()"
   ]
  },
  {
   "cell_type": "markdown",
   "metadata": {},
   "source": [
    "Como há pouca variação nos valores, a escala do gráfico é bem pequena, o que causa a impressão de que a performance do modelo não foi muito boa. Porém, visualizando cada registro com sua previsão, vê-se que o modelo é satisfatório."
   ]
  },
  {
   "cell_type": "markdown",
   "metadata": {},
   "source": [
    "### Conclusão\n",
    "O algortimo LSTM é usado, entre outras coisas, para realizar previsões em séries temporais. Sua estrutura permite criar uma memória de longo-prazo de forma eficiente. O objetivo desse trabalho foi prever um parâmetro utilizado na aviação utilizando ele mesmo como previsor. Tal objetivo foi alcançado com um algoritmo LSTM com o *framework* Tensorflow. A média do erro absoluto do modelo, validado com a base de teste, foi satisfatória (0.37). O gráfico exibe os resultados de forma mais visual, comprovando a performance do modelo e resultado satisfatório."
   ]
  },
  {
   "cell_type": "markdown",
   "metadata": {},
   "source": [
    "## Referências"
   ]
  },
  {
   "cell_type": "markdown",
   "metadata": {},
   "source": [
    "[1] Mandic, D. P., & Chambers, J. A. (2001). Recurrent neural networks for prediction : learning algorithms, architectures, and stability. John Wiley. Retrieved from https://www.wiley.com/en-us/Recurrent+Neural+Networks+for+Prediction%3A+Learning+Algorithms%2C+Architectures+and+Stability-p-9780471495178"
   ]
  },
  {
   "cell_type": "markdown",
   "metadata": {},
   "source": [
    "[2] Hoffman, G. (2018). Introduction to LSTMs with TensorFlow - O’Reilly Media. Retrieved February 23, 2019, from https://www.oreilly.com/ideas/introduction-to-lstms-with-tensorflow"
   ]
  },
  {
   "cell_type": "markdown",
   "metadata": {},
   "source": [
    "[3] Yan, S. (2016). Understanding LSTM and its diagrams – ML Review – Medium. Retrieved February 23, 2019, from https://medium.com/mlreview/understanding-lstm-and-its-diagrams-37e2f46f1714"
   ]
  }
 ],
 "metadata": {
  "kernelspec": {
   "display_name": "Python 3",
   "language": "python",
   "name": "python3"
  },
  "language_info": {
   "codemirror_mode": {
    "name": "ipython",
    "version": 3
   },
   "file_extension": ".py",
   "mimetype": "text/x-python",
   "name": "python",
   "nbconvert_exporter": "python",
   "pygments_lexer": "ipython3",
   "version": "3.6.8"
  }
 },
 "nbformat": 4,
 "nbformat_minor": 2
}
